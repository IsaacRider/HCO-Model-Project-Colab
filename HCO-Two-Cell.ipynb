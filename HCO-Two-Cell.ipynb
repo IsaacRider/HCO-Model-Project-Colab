{
  "cells": [
    {
      "cell_type": "markdown",
      "metadata": {
        "id": "wvTrBQ1EpxWY"
      },
      "source": [
        "# Computational Neuroscience Modeling Project\n",
        "## Half Center Oscillator - Two Cells"
      ],
      "id": "wvTrBQ1EpxWY"
    },
    {
      "cell_type": "markdown",
      "metadata": {
        "id": "aralV56mpxWZ"
      },
      "source": [
        "### Setup before building the model\n",
        "Only need to run the three cells below once.\n",
        "#### Install NEURON\n",
        "First install NEURON package."
      ],
      "id": "aralV56mpxWZ"
    },
    {
      "cell_type": "code",
      "execution_count": null,
      "metadata": {
        "id": "orwL4woepxWZ"
      },
      "outputs": [],
      "source": [
        "!pip install neuron"
      ],
      "id": "orwL4woepxWZ"
    },
    {
      "cell_type": "markdown",
      "metadata": {
        "id": "gsXY3vpEpxWa"
      },
      "source": [
        "#### Download modfiles from github"
      ],
      "id": "gsXY3vpEpxWa"
    },
    {
      "cell_type": "code",
      "execution_count": null,
      "metadata": {
        "id": "s8eGrr6GpxWa"
      },
      "outputs": [],
      "source": [
        "import os\n",
        "\n",
        "if os.path.basename(os.getcwd())!='HCO-Model-Project-Colab':\n",
        "  !git clone https://github.com/chenziao/HCO-Model-Project-Colab.git\n",
        "  %cd HCO-Model-Project-Colab/\n",
        "else:\n",
        "  print('Mod files have already been downloaded.')\n",
        "%ls"
      ],
      "id": "s8eGrr6GpxWa"
    },
    {
      "cell_type": "markdown",
      "metadata": {
        "id": "waExDfSlpxWa"
      },
      "source": [
        "#### Compile modfiles"
      ],
      "id": "waExDfSlpxWa"
    },
    {
      "cell_type": "code",
      "execution_count": null,
      "metadata": {
        "id": "vclCajuWpxWb"
      },
      "outputs": [],
      "source": [
        "import os\n",
        "print(os.system('nrnivmodl')) # compile modfiles. Return 0 for success, 1 for failure."
      ],
      "id": "vclCajuWpxWb"
    },
    {
      "cell_type": "markdown",
      "metadata": {
        "id": "1itXmGYOpxWb"
      },
      "source": [
        "### Build the HCO model\n",
        "Now you are ready to build the two-cell HCO model using the same template for both cell.\n",
        "\n",
        "#### Initialize the model\n",
        "Run the cell below only once to import the cell template from the script \"HCO_cell_template.py\" and create two cells (cellA and cellB) using the same template. Then provide the first cell (cellA) with a current injection and create two synapses that mutually connect the two cells."
      ],
      "id": "1itXmGYOpxWb"
    },
    {
      "cell_type": "code",
      "execution_count": null,
      "metadata": {
        "scrolled": true,
        "id": "5NAHc_BwpxWb"
      },
      "outputs": [],
      "source": [
        "from neuron import h\n",
        "from HCO_cell_template import HCOcell\n",
        "import matplotlib.pyplot as plt\n",
        "import ipywidgets as widgets\n",
        "\n",
        "h.load_file('stdrun.hoc')\n",
        "\n",
        "h.dt = 0.025 # time step (resolution) of the simulation in ms\n",
        "h.v_init= -50 # initial membrane potential in mV\n",
        "\n",
        "# create two cells from HCO_cell_template\n",
        "cellA = HCOcell()\n",
        "cellB = HCOcell()\n",
        "cells = [cellA,cellB] # put the two cells in a list\n",
        "\n",
        "# create a current clamp to cellA\n",
        "ccl = h.IClamp(cellA.soma(.5))\n",
        "\n",
        "# create two synapses connecting the two cells\n",
        "syn = [] # make empty list for synapse object\n",
        "nc = [] # make empty list for NetCon object\n",
        "for cell in cells:\n",
        "    syn.append(h.inhsyn(.5,sec=cell.soma)) # create a synapse into each cell\n",
        "for i,cell in enumerate(cells):\n",
        "    nc.append(h.NetCon(cell.soma(.5)._ref_v,syn[1-i],0,0,10,sec=cell.soma)) # a NEURON object that connects a source to a target"
      ],
      "id": "5NAHc_BwpxWb"
    },
    {
      "cell_type": "markdown",
      "metadata": {
        "id": "VscopUOJpxWb"
      },
      "source": [
        "#### Set parameters and simulate\n",
        "In the code below, you can change values for the parameters listed. The same biophysical and synaptic parameters in the dictionaries are used for both cells. The current injection parameters are used only for cellA.\n",
        "\n",
        "Run the code after setting up the paremeter values, the simulation will run. After the simulation is done, run the code in the next step and you will see the result plots and the values of the parameters being used printed out.\n",
        "\n",
        "You can change the parameters and run the code below repeatedly to tune the model."
      ],
      "id": "VscopUOJpxWb"
    },
    {
      "cell_type": "code",
      "execution_count": null,
      "metadata": {
        "id": "X2Znwgi-pxWc"
      },
      "outputs": [],
      "source": [
        "h.tstop = 2000 # Simulation time (ms)\n",
        "\n",
        "# Biophysical parameters\n",
        "parameters = {\n",
        "    # Conductance of channels (siemens/cm2)\n",
        "    'gbar_leak': 0.0,\n",
        "    'gbar_na': .25,    # (.1~.5)\n",
        "    'gbar_kdr': .25,    # (.1~.5)\n",
        "    'gbar_ka': 0.2,    # (.1~.5)\n",
        "    'gbar_kca': 0.015,    # (.01~.05)\n",
        "    'gbar_cas': 0.01,    # (.001~.01)\n",
        "    'gbar_cat': 0.01,    # (.005~.01)\n",
        "    'gbar_hyper': 0.0001,    # (.0001~.0003)\n",
        "    # Ca pool parameters\n",
        "    'tauca_capool': 200.0,    # decay time constant\n",
        "    'fca_capool': 1.0    # ca influx factor that goes to ca pool\n",
        "} # parameters set to \"None\" are to use default values defined in the template\n",
        "\n",
        "# Current injection parameters\n",
        "ccl_param = {\n",
        "    'delay': 100,    # start time (ms)\n",
        "    'dur': 10,    # duration (ms)\n",
        "    'amp': 1.0    # amplitude (nA) (set to 0 to disable current injection)\n",
        "}\n",
        "\n",
        "# Synapse parameters\n",
        "syn_param = {\n",
        "    'esyn': -80,    # synaptic channels reversal potential (mV)\n",
        "    'gmax': 40e-3,    # synaptic channels maximum conductance (uS) (default: 40e-3)\n",
        "    'tau1': 10,    # rise time (ms) (default: 10)\n",
        "    'tau2': 20    # decay time (ms) (default: 20)\n",
        "}\n",
        "\n",
        "\n",
        "# Setup parameters (Do Not need to change the code below)\n",
        "for p,v in ccl_param.items():\n",
        "    setattr(ccl,p,v)\n",
        "for cell,s in zip(cells,syn):\n",
        "    cell.set_biophysics(**parameters)\n",
        "    for p,v in syn_param.items():\n",
        "        setattr(s,p,v)\n",
        "\n",
        "# Run simulation\n",
        "_ = h.run()"
      ],
      "id": "X2Znwgi-pxWc"
    },
    {
      "cell_type": "markdown",
      "metadata": {
        "id": "L1i0romvpxWc"
      },
      "source": [
        "#### Plot results\n",
        "After simulation is done in previous step, run the code below to plot the results."
      ],
      "id": "L1i0romvpxWc"
    },
    {
      "cell_type": "code",
      "execution_count": null,
      "metadata": {
        "id": "q9KAAfKdpxWc"
      },
      "outputs": [],
      "source": [
        "out  = [widgets.Output() for _ in range(4)]\n",
        "\n",
        "# Print parameters\n",
        "with out[0]:\n",
        "    print('Parameters:')\n",
        "    for p,v in cellA.get_biophysics(**parameters).items():\n",
        "        print('{} = {}'.format(p,v))\n",
        "# Plot results\n",
        "with out[1]:\n",
        "    plt.figure(figsize=(10,4.8))\n",
        "    for i,cell in enumerate(cells):\n",
        "        cellname = 'Cell B' if i>0 else 'Cell A'\n",
        "        clr = 'r' if i>0 else 'b'\n",
        "        plt.plot(cell.t,cell.record['v'],clr,label=cellname)\n",
        "    plt.xlim(cellA.t[0],cellA.t[-1])\n",
        "    plt.ylim(-90,60)\n",
        "    plt.legend(loc=1)\n",
        "    plt.xlabel('Time (ms)')\n",
        "    plt.ylabel('Membrane Voltage (mV)')\n",
        "    plt.show()\n",
        "for i,cell in enumerate(cells):\n",
        "    with out[i+2]:\n",
        "        fig,axs = cell.plot_vars(cellid=i,figsize=(6.4,8))\n",
        "        plt.show()\n",
        "\n",
        "widgets.VBox([widgets.HBox([out[0],out[1]]),widgets.HBox([out[2],out[3]])])"
      ],
      "id": "q9KAAfKdpxWc"
    },
    {
      "cell_type": "code",
      "execution_count": null,
      "metadata": {
        "id": "xHzWTPy0pxWc"
      },
      "outputs": [],
      "source": [],
      "id": "xHzWTPy0pxWc"
    }
  ],
  "metadata": {
    "kernelspec": {
      "display_name": "Python 3",
      "language": "python",
      "name": "python3"
    },
    "language_info": {
      "codemirror_mode": {
        "name": "ipython",
        "version": 3
      },
      "file_extension": ".py",
      "mimetype": "text/x-python",
      "name": "python",
      "nbconvert_exporter": "python",
      "pygments_lexer": "ipython3",
      "version": "3.7.4"
    },
    "colab": {
      "provenance": []
    }
  },
  "nbformat": 4,
  "nbformat_minor": 5
}