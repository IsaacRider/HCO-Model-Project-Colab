{
 "cells": [
  {
   "cell_type": "markdown",
   "id": "031bc87b",
   "metadata": {},
   "source": [
    "# Computational Neuroscience Modeling Project\n",
    "## Half Center Oscillator - Single Cell"
   ]
  },
  {
   "cell_type": "markdown",
   "id": "ba5ef66a",
   "metadata": {},
   "source": [
    "### Setup before building the model\n",
    "Only need to run the three cells below once.\n",
    "#### Install NEURON\n",
    "First install NEURON package."
   ]
  },
  {
   "cell_type": "code",
   "execution_count": null,
   "id": "1f44f898",
   "metadata": {},
   "outputs": [],
   "source": [
    "!pip install neuron"
   ]
  },
  {
   "cell_type": "markdown",
   "id": "f391e1c0",
   "metadata": {},
   "source": [
    "#### Download modfiles from github"
   ]
  },
  {
   "cell_type": "code",
   "execution_count": null,
   "id": "6899a6d3",
   "metadata": {},
   "outputs": [],
   "source": [
    "import os\n",
    "\n",
    "if os.path.basename(os.getcwd())!='HCO-Model-Project-Colab':\n",
    "  !git clone https://github.com/chenziao/HCO-Model-Project-Colab.git\n",
    "  %cd HCO-Model-Project-Colab/\n",
    "else:\n",
    "  print('Mod files have already been downloaded.')\n",
    "%ls"
   ]
  },
  {
   "cell_type": "markdown",
   "id": "43747707",
   "metadata": {},
   "source": [
    "#### Compile modfiles"
   ]
  },
  {
   "cell_type": "code",
   "execution_count": null,
   "id": "f9f3cdb0",
   "metadata": {},
   "outputs": [],
   "source": [
    "import os\n",
    "print(os.system('nrnivmodl')) # compile modfiles. Return 0 for success, 1 for failure."
   ]
  },
  {
   "cell_type": "markdown",
   "id": "83ab0f42",
   "metadata": {},
   "source": [
    "### Build the HCO model\n",
    "Now you are ready to build the HCO model step by step, starting with a single cell.\n",
    "\n",
    "#### Initialize the model\n",
    "Run the cell below only once to import the cell template from the script \"HCO_cell_template.py\" and create a cell using the template. Then provide the cell with a current injection and a synapse as input to the cell."
   ]
  },
  {
   "cell_type": "code",
   "execution_count": 1,
   "id": "d8183b16",
   "metadata": {
    "scrolled": true
   },
   "outputs": [],
   "source": [
    "from neuron import h\n",
    "from HCO_cell_template import HCOcell\n",
    "import matplotlib.pyplot as plt\n",
    "import ipywidgets as widgets\n",
    "\n",
    "h.load_file('stdrun.hoc')\n",
    "\n",
    "h.dt = 0.025 # time step (resolution) of the simulation in ms\n",
    "h.v_init= -50 # initial membrane potential in mV\n",
    "\n",
    "# create a single cell from HCO_cell_template\n",
    "cell = HCOcell()\n",
    "\n",
    "# create a current clamp to the cell\n",
    "ccl = h.IClamp(cell.soma(.5))\n",
    "\n",
    "# create a synaptic input to the cell\n",
    "syn = h.inhsyn(.5,sec=cell.soma) # create a synapse into soma\n",
    "spk_train = h.NetStim() # provides a spike train\n",
    "spk_train.noise = 0 # range 0 to 1, fractional randomness\n",
    "nc = h.NetCon(spk_train,syn,0,0,1,sec=cell.soma) # a NEURON object that connects a source to a target"
   ]
  },
  {
   "cell_type": "markdown",
   "id": "a3e882cd",
   "metadata": {},
   "source": [
    "#### Set parameters and simulate\n",
    "In the code below, you can change values for the parameters listed. The description of the parameters is provided in the comments (text after the symbol #).\n",
    "\n",
    "Run the code after setting up the paremeter values, the simulation will run. After the simulation is done, run the code in the next step and you will see the result plots and the values of the parameters being used printed out.\n",
    "\n",
    "You can change the parameters and run the code below repeatedly to tune the model."
   ]
  },
  {
   "cell_type": "code",
   "execution_count": 2,
   "id": "92cee282",
   "metadata": {},
   "outputs": [],
   "source": [
    "h.tstop = 1200 # Simulation time (ms)\n",
    "\n",
    "# Biophysical parameters\n",
    "parameters = {\n",
    "    # Conductance of channels (siemens/cm2)\n",
    "    'gbar_leak': None,\n",
    "    'gbar_na': .1,    # (.1~.5)\n",
    "    'gbar_kdr': .1,    # (.1~.5)\n",
    "    'gbar_ka': 0.,    # (.1~.5)\n",
    "    'gbar_kca': 0.,    # (.01~.05)\n",
    "    'gbar_cas': 0.,    # (.001~.01)\n",
    "    'gbar_cat': 0.,    # (.005~.01)\n",
    "    'gbar_hyper': 0.,    # (.0001~.0003)\n",
    "    # Ca pool parameters\n",
    "    'tauca_capool': None,    # decay time constant\n",
    "    'fca_capool': None    # ca influx factor that goes to ca pool\n",
    "} # parameters set to \"None\" are to use default values defined in the template\n",
    "\n",
    "# Current injection parameters\n",
    "ccl_param = {\n",
    "    'delay': 200,    # start time (ms)\n",
    "    'dur': 800,    # duration (ms)\n",
    "    'amp': 1.0    # amplitude (nA) (set to 0 to disable current injection)\n",
    "}\n",
    "\n",
    "# Synaptic input\n",
    "syn_param = {\n",
    "    'weight': 0,    # synaptic weight (set to 0 to disable, 1 to enable synapse)\n",
    "    'start': 100.,    # start time of first spike (ms)\n",
    "    'interval': 500.,    # time between spikes (ms)\n",
    "    'number': 5,    # number of spikes\n",
    "    'esyn': -40,    # synaptic channels reversal potential (mV) (set to -80)\n",
    "    'gmax': 40e-3,    # synaptic channels maximum conductance (uS) (default: 40e-3)\n",
    "    'tau1': 10,    # rise time (ms) (default: 10)\n",
    "    'tau2': 20    # decay time (ms) (default: 20)\n",
    "}\n",
    "\n",
    "\n",
    "# Setup parameters (Do Not need to change the code below)\n",
    "cell.set_biophysics(**parameters)\n",
    "for p,v in ccl_param.items():\n",
    "    setattr(ccl,p,v)\n",
    "syn_objs = [nc,spk_train,syn]\n",
    "obj_id = [0,1,1,1,2,2,2,2]\n",
    "for i,(p,v) in zip(obj_id,syn_param.items()):\n",
    "    if i>0:\n",
    "        setattr(syn_objs[i],p,v)\n",
    "    else:\n",
    "        getattr(syn_objs[i],p)[0] = v\n",
    "\n",
    "# Run simulation\n",
    "_ = h.run()"
   ]
  },
  {
   "cell_type": "markdown",
   "id": "6f5dcdd3",
   "metadata": {},
   "source": [
    "#### Plot results\n",
    "After simulation is done in previous step, run the code below to plot the results."
   ]
  },
  {
   "cell_type": "code",
   "execution_count": 3,
   "id": "02a6391b",
   "metadata": {},
   "outputs": [
    {
     "data": {
      "application/vnd.jupyter.widget-view+json": {
       "model_id": "d22c40ed507f48a38355df93f75b9523",
       "version_major": 2,
       "version_minor": 0
      },
      "text/plain": [
       "HBox(children=(Output(), Output()))"
      ]
     },
     "metadata": {},
     "output_type": "display_data"
    }
   ],
   "source": [
    "out1 = widgets.Output()\n",
    "out2 = widgets.Output()\n",
    "# Plot results\n",
    "with out1:\n",
    "    fig,axs = cell.plot_vars(figsize=(6.4,8))\n",
    "    # axs[1].set_ylim(-0.2,0.2) # uncomment this line and select range to zoom in y-axis (e.g.-0.2~0.2)\n",
    "    plt.show()\n",
    "# Print parameters\n",
    "with out2:\n",
    "    print('Parameters:')\n",
    "    for p,v in cell.get_biophysics(**parameters).items():\n",
    "        print('{} = {}'.format(p,v))\n",
    "widgets.HBox([out1,out2])"
   ]
  },
  {
   "cell_type": "code",
   "execution_count": null,
   "id": "2cffb583",
   "metadata": {},
   "outputs": [],
   "source": []
  }
 ],
 "metadata": {
  "kernelspec": {
   "display_name": "Python 3 (ipykernel)",
   "language": "python",
   "name": "python3"
  },
  "language_info": {
   "codemirror_mode": {
    "name": "ipython",
    "version": 3
   },
   "file_extension": ".py",
   "mimetype": "text/x-python",
   "name": "python",
   "nbconvert_exporter": "python",
   "pygments_lexer": "ipython3",
   "version": "3.7.4"
  }
 },
 "nbformat": 4,
 "nbformat_minor": 5
}
